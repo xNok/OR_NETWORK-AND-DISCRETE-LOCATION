{
 "cells": [
  {
   "cell_type": "markdown",
   "metadata": {},
   "source": [
    "Reliability Models for Facility Location:The Expected Failure Cost Case\n",
    "---\n",
    "\n",
    "Base on the following article:\n",
    "\n",
    "*Snyder, L. V., & Daskin, M. S. (2005). Reliability models for facility location: the expected failure cost case. Transportation Science, 39(3), 400-416.*"
   ]
  },
  {
   "cell_type": "code",
   "execution_count": 16,
   "metadata": {},
   "outputs": [
    {
     "ename": "ModuleNotFoundError",
     "evalue": "No module named 'netandloc'",
     "output_type": "error",
     "traceback": [
      "\u001b[0;31m---------------------------------------------------------------------------\u001b[0m",
      "\u001b[0;31mModuleNotFoundError\u001b[0m                       Traceback (most recent call last)",
      "\u001b[0;32m<ipython-input-16-3ac9296ad6ce>\u001b[0m in \u001b[0;36m<module>\u001b[0;34m()\u001b[0m\n\u001b[1;32m      1\u001b[0m \u001b[0;31m# Colecting the problem\u001b[0m\u001b[0;34m\u001b[0m\u001b[0;34m\u001b[0m\u001b[0;34m\u001b[0m\u001b[0m\n\u001b[0;32m----> 2\u001b[0;31m \u001b[0;32mfrom\u001b[0m \u001b[0mnetandloc\u001b[0m\u001b[0;34m.\u001b[0m\u001b[0mdataset\u001b[0m\u001b[0;34m.\u001b[0m\u001b[0mmongodb\u001b[0m \u001b[0;32mimport\u001b[0m \u001b[0mMongoClient\u001b[0m\u001b[0;34m\u001b[0m\u001b[0;34m\u001b[0m\u001b[0m\n\u001b[0m\u001b[1;32m      3\u001b[0m \u001b[0;31m# Solving the problem\u001b[0m\u001b[0;34m\u001b[0m\u001b[0;34m\u001b[0m\u001b[0;34m\u001b[0m\u001b[0m\n\u001b[1;32m      4\u001b[0m \u001b[0;32mfrom\u001b[0m \u001b[0mnetandloc\u001b[0m\u001b[0;34m.\u001b[0m\u001b[0msolvers\u001b[0m\u001b[0;34m.\u001b[0m\u001b[0muflp\u001b[0m \u001b[0;32mimport\u001b[0m \u001b[0muflp\u001b[0m\u001b[0;34m\u001b[0m\u001b[0;34m\u001b[0m\u001b[0m\n\u001b[1;32m      5\u001b[0m \u001b[0;31m# Representing the network\u001b[0m\u001b[0;34m\u001b[0m\u001b[0;34m\u001b[0m\u001b[0;34m\u001b[0m\u001b[0m\n",
      "\u001b[0;31mModuleNotFoundError\u001b[0m: No module named 'netandloc'"
     ]
    }
   ],
   "source": [
    "# Colecting the problem\n",
    "from netandloc.dataset.mongodb import MongoClient\n",
    "# Solving the problem\n",
    "from netandloc.solvers.uflp import uflp\n",
    "# Representing the network\n",
    "from netandloc.dataviz.network import Network\n",
    "\n",
    "from sklearn.neighbors import DistanceMetric\n",
    "from geopy.distance import great_circle\n",
    "\n",
    "import scipy as sp\n",
    "import numpy as np\n",
    "import pandas as pd\n",
    "\n",
    "%load_ext autoreload\n",
    "%autoreload 2"
   ]
  },
  {
   "cell_type": "code",
   "execution_count": 17,
   "metadata": {},
   "outputs": [
    {
     "name": "stdout",
     "output_type": "stream",
     "text": [
      "Name: netandloc\n",
      "Version: 1.0\n",
      "Summary: Python Library To facilitate the manipulation of datasets from OR_NETWORK_AND_DISCRETE_LOCATION\n",
      "Home-page: https://github.com/xNok/OR_NETWORK-AND-DISCRETE-LOCATION\n",
      "Author: xNok\n",
      "Author-email: nokwebspace@gmail.com\n",
      "License: UNKNOWN\n",
      "Location: /home/jovyan/work/OR_NETWORK-AND-DISCRETE-LOCATION/PythonLib\n",
      "Requires: \n",
      "Required-by: \n"
     ]
    }
   ],
   "source": [
    "!pip show NetAndLoc"
   ]
  },
  {
   "cell_type": "markdown",
   "metadata": {},
   "source": [
    "## UFLP Solution to the 49-Node Dataset"
   ]
  },
  {
   "cell_type": "markdown",
   "metadata": {},
   "source": [
    "First, we collect the dataset from our database using **MonClient**."
   ]
  },
  {
   "cell_type": "code",
   "execution_count": 150,
   "metadata": {},
   "outputs": [],
   "source": [
    "dataset = MongoClient(db = {\n",
    "# MongoClient let us connect to the database and manipulate our dataset\n",
    "    \"mongo_host\": \"ns396089.ip-37-59-38.eu\",\n",
    "    \"mongo_port\": 32771,\n",
    "    \"mongo_db_name\": \"NETWORK-AND-DISCRETE-LOCATION\"\n",
    "}, q = {\n",
    "    'metadata.author': 'Mark S. Daskin',\n",
    "    'metadata.topic': 'NETWORK-AND-DISCRETE-LOCATION',\n",
    "    'metadata.dataset': '49-nodes'\n",
    "},f=None)"
   ]
  },
  {
   "cell_type": "markdown",
   "metadata": {},
   "source": [
    "We can display the dataset using the method **get** which return a pandas Dataframe containing our data"
   ]
  },
  {
   "cell_type": "code",
   "execution_count": 151,
   "metadata": {},
   "outputs": [
    {
     "data": {
      "text/html": [
       "<div>\n",
       "<style scoped>\n",
       "    .dataframe tbody tr th:only-of-type {\n",
       "        vertical-align: middle;\n",
       "    }\n",
       "\n",
       "    .dataframe tbody tr th {\n",
       "        vertical-align: top;\n",
       "    }\n",
       "\n",
       "    .dataframe thead th {\n",
       "        text-align: right;\n",
       "    }\n",
       "</style>\n",
       "<table border=\"1\" class=\"dataframe\">\n",
       "  <thead>\n",
       "    <tr style=\"text-align: right;\">\n",
       "      <th></th>\n",
       "      <th>ID</th>\n",
       "      <th>LONGITUDE</th>\n",
       "      <th>LATITUDE</th>\n",
       "      <th>STATE POP</th>\n",
       "      <th>CITY POP</th>\n",
       "      <th>FIXED COST</th>\n",
       "      <th>CITY</th>\n",
       "    </tr>\n",
       "  </thead>\n",
       "  <tbody>\n",
       "    <tr>\n",
       "      <th>0</th>\n",
       "      <td>1</td>\n",
       "      <td>-121.467360</td>\n",
       "      <td>38.566850</td>\n",
       "      <td>29760021</td>\n",
       "      <td>369365</td>\n",
       "      <td>115800</td>\n",
       "      <td>&lt; Sacramento CA &gt;</td>\n",
       "    </tr>\n",
       "    <tr>\n",
       "      <th>1</th>\n",
       "      <td>2</td>\n",
       "      <td>-73.799017</td>\n",
       "      <td>42.665750</td>\n",
       "      <td>17990455</td>\n",
       "      <td>101082</td>\n",
       "      <td>101800</td>\n",
       "      <td>&lt; Albany NY &gt;</td>\n",
       "    </tr>\n",
       "    <tr>\n",
       "      <th>2</th>\n",
       "      <td>11</td>\n",
       "      <td>-84.422592</td>\n",
       "      <td>33.762900</td>\n",
       "      <td>6478216</td>\n",
       "      <td>394017</td>\n",
       "      <td>71200</td>\n",
       "      <td>&lt; Atlanta GA &gt;</td>\n",
       "    </tr>\n",
       "    <tr>\n",
       "      <th>3</th>\n",
       "      <td>12</td>\n",
       "      <td>-77.474584</td>\n",
       "      <td>37.531050</td>\n",
       "      <td>6187358</td>\n",
       "      <td>203056</td>\n",
       "      <td>66600</td>\n",
       "      <td>&lt; Richmond VA &gt;</td>\n",
       "    </tr>\n",
       "    <tr>\n",
       "      <th>4</th>\n",
       "      <td>13</td>\n",
       "      <td>-71.017892</td>\n",
       "      <td>42.336029</td>\n",
       "      <td>6016425</td>\n",
       "      <td>574283</td>\n",
       "      <td>161400</td>\n",
       "      <td>&lt; Boston MA &gt;</td>\n",
       "    </tr>\n",
       "  </tbody>\n",
       "</table>\n",
       "</div>"
      ],
      "text/plain": [
       "   ID   LONGITUDE   LATITUDE  STATE POP  CITY POP  FIXED COST  \\\n",
       "0   1 -121.467360  38.566850   29760021    369365      115800   \n",
       "1   2  -73.799017  42.665750   17990455    101082      101800   \n",
       "2  11  -84.422592  33.762900    6478216    394017       71200   \n",
       "3  12  -77.474584  37.531050    6187358    203056       66600   \n",
       "4  13  -71.017892  42.336029    6016425    574283      161400   \n",
       "\n",
       "                CITY  \n",
       "0  < Sacramento CA >  \n",
       "1      < Albany NY >  \n",
       "2     < Atlanta GA >  \n",
       "3    < Richmond VA >  \n",
       "4      < Boston MA >  "
      ]
     },
     "execution_count": 151,
     "metadata": {},
     "output_type": "execute_result"
    }
   ],
   "source": [
    "df = dataset.get()\n",
    "df.head()"
   ]
  },
  {
   "cell_type": "markdown",
   "metadata": {},
   "source": [
    "The uncapacitated facility location problem takes as inputs two sets of **Customers** and **Facilities**, as well as the list **f** containing the fixed cost of each facility and the matrix **c** representing the cost of serving a customer given a facility."
   ]
  },
  {
   "cell_type": "code",
   "execution_count": 152,
   "metadata": {},
   "outputs": [],
   "source": [
    "# Set of customer\n",
    "Customers = range(len(df.index))\n",
    "Facilities = df.index\n",
    "fixed_cost = df[\"FIXED COST\"].values\n",
    "# Distance matrix in Km frm long/lat\n",
    "distances = DistanceMetric.get_metric('haversine').pairwise(df[[\"LATITUDE\",\"LONGITUDE\"]].apply(np.radians)) * 3959\n",
    "# The transportation cost are taken to be $0.00001 per mile per unit of demande\n",
    "# The demande is proportinal to the state population\n",
    "transportation_cost = np.round(0.00001 * distances * df[\"STATE POP\"][None, :].T)\n",
    "\n",
    "# keep only significant values\n",
    "fixed_cost = np.round(fixed_cost * 0.001)\n",
    "transportation_cost = np.round(transportation_cost * 0.001)"
   ]
  },
  {
   "cell_type": "markdown",
   "metadata": {},
   "source": [
    "The data for the "
   ]
  },
  {
   "cell_type": "code",
   "execution_count": 153,
   "metadata": {},
   "outputs": [],
   "source": [
    "m, X, Y = uflp(Customers, Facilities, fixed_cost, transportation_cost, name='UFLP')"
   ]
  },
  {
   "cell_type": "code",
   "execution_count": 171,
   "metadata": {},
   "outputs": [
    {
     "name": "stdout",
     "output_type": "stream",
     "text": [
      "* system is: Linux 64bit\n",
      "* Python is present, version is 3.6.8\n",
      "* docplex is present, version is (2, 4, 61)\n",
      "* CPLEX wrapper is present, version is 12.8.0.0, located at: /opt/conda/lib/python3.6/site-packages\n"
     ]
    }
   ],
   "source": [
    "from docplex.mp.environment import Environment\n",
    "env = Environment()\n",
    "env.print_information()\n",
    "solution = m.solve()"
   ]
  },
  {
   "cell_type": "code",
   "execution_count": 173,
   "metadata": {},
   "outputs": [
    {
     "data": {
      "text/plain": [
       "0.004161834716796875"
      ]
     },
     "execution_count": 173,
     "metadata": {},
     "output_type": "execute_result"
    }
   ],
   "source": [
    "m.export_as_lp(\"uflp_formulation\")\n",
    "solution.export(\"uflp_solution.json\")\n",
    "solution.solve_details.time"
   ]
  },
  {
   "cell_type": "code",
   "execution_count": 160,
   "metadata": {},
   "outputs": [
    {
     "data": {
      "text/plain": [
       "508.0"
      ]
     },
     "execution_count": 160,
     "metadata": {},
     "output_type": "execute_result"
    }
   ],
   "source": [
    "solution.kpi_value_by_name(\"transportation cost\")"
   ]
  },
  {
   "cell_type": "code",
   "execution_count": 161,
   "metadata": {},
   "outputs": [
    {
     "data": {
      "text/plain": [
       "348.0"
      ]
     },
     "execution_count": 161,
     "metadata": {},
     "output_type": "execute_result"
    }
   ],
   "source": [
    "solution.kpi_value_by_name(\"fixed cost\")"
   ]
  },
  {
   "cell_type": "code",
   "execution_count": 162,
   "metadata": {},
   "outputs": [
    {
     "data": {
      "text/plain": [
       "856.0"
      ]
     },
     "execution_count": 162,
     "metadata": {},
     "output_type": "execute_result"
    }
   ],
   "source": [
    "solution.get_objective_value()"
   ]
  },
  {
   "cell_type": "markdown",
   "metadata": {},
   "source": [
    "## Analyse the probleme and the solution"
   ]
  },
  {
   "cell_type": "markdown",
   "metadata": {},
   "source": [
    "We use the **dataviz** package to convert our dataset into a **Network** object so that we can plot it."
   ]
  },
  {
   "cell_type": "code",
   "execution_count": 178,
   "metadata": {},
   "outputs": [
    {
     "name": "stderr",
     "output_type": "stream",
     "text": [
      "/opt/conda/lib/python3.6/site-packages/networkx/drawing/nx_pylab.py:611: MatplotlibDeprecationWarning: isinstance(..., numbers.Number)\n",
      "  if cb.is_numlike(alpha):\n"
     ]
    },
    {
     "data": {
      "image/png": "[encoded data removed]",
      "text/plain": [
       "<Figure size 720x360 with 2 Axes>"
      ]
     },
     "metadata": {},
     "output_type": "display_data"
    }
   ],
   "source": [
    "network = Network(dataset)\n",
    "network.G.add_edges_from([key for key in X if X[key].solution_value == 1])\n",
    "network.plot_nodes(node_size=(\"CITY POP\",1/2500), node_color=\"FIXED COST\")"
   ]
  },
  {
   "cell_type": "code",
   "execution_count": 179,
   "metadata": {},
   "outputs": [
    {
     "data": {
      "text/html": [
       "<div>\n",
       "<style scoped>\n",
       "    .dataframe tbody tr th:only-of-type {\n",
       "        vertical-align: middle;\n",
       "    }\n",
       "\n",
       "    .dataframe tbody tr th {\n",
       "        vertical-align: top;\n",
       "    }\n",
       "\n",
       "    .dataframe thead th {\n",
       "        text-align: right;\n",
       "    }\n",
       "</style>\n",
       "<table border=\"1\" class=\"dataframe\">\n",
       "  <thead>\n",
       "    <tr style=\"text-align: right;\">\n",
       "      <th></th>\n",
       "      <th>ID</th>\n",
       "      <th>LONGITUDE</th>\n",
       "      <th>LATITUDE</th>\n",
       "      <th>STATE POP</th>\n",
       "      <th>CITY POP</th>\n",
       "      <th>FIXED COST</th>\n",
       "      <th>CITY</th>\n",
       "      <th>demande</th>\n",
       "    </tr>\n",
       "  </thead>\n",
       "  <tbody>\n",
       "    <tr>\n",
       "      <th>0</th>\n",
       "      <td>1</td>\n",
       "      <td>-121.467360</td>\n",
       "      <td>38.566850</td>\n",
       "      <td>29760021</td>\n",
       "      <td>369365</td>\n",
       "      <td>115800</td>\n",
       "      <td>&lt; Sacramento CA &gt;</td>\n",
       "      <td>19.0</td>\n",
       "    </tr>\n",
       "    <tr>\n",
       "      <th>12</th>\n",
       "      <td>3</td>\n",
       "      <td>-97.750522</td>\n",
       "      <td>30.305880</td>\n",
       "      <td>16986510</td>\n",
       "      <td>465622</td>\n",
       "      <td>72600</td>\n",
       "      <td>&lt; Austin TX &gt;</td>\n",
       "      <td>10.0</td>\n",
       "    </tr>\n",
       "    <tr>\n",
       "      <th>14</th>\n",
       "      <td>22</td>\n",
       "      <td>-86.284287</td>\n",
       "      <td>32.354400</td>\n",
       "      <td>4040587</td>\n",
       "      <td>187106</td>\n",
       "      <td>62200</td>\n",
       "      <td>&lt; Montgomery AL &gt;</td>\n",
       "      <td>16.0</td>\n",
       "    </tr>\n",
       "    <tr>\n",
       "      <th>34</th>\n",
       "      <td>5</td>\n",
       "      <td>-76.884503</td>\n",
       "      <td>40.276050</td>\n",
       "      <td>11881643</td>\n",
       "      <td>52376</td>\n",
       "      <td>38400</td>\n",
       "      <td>&lt; Harrisburg PA &gt;</td>\n",
       "      <td>33.0</td>\n",
       "    </tr>\n",
       "    <tr>\n",
       "      <th>44</th>\n",
       "      <td>6</td>\n",
       "      <td>-89.644654</td>\n",
       "      <td>39.781433</td>\n",
       "      <td>11430602</td>\n",
       "      <td>105227</td>\n",
       "      <td>59200</td>\n",
       "      <td>&lt; Springfield IL &gt;</td>\n",
       "      <td>22.0</td>\n",
       "    </tr>\n",
       "  </tbody>\n",
       "</table>\n",
       "</div>"
      ],
      "text/plain": [
       "    ID   LONGITUDE   LATITUDE  STATE POP  CITY POP  FIXED COST  \\\n",
       "0    1 -121.467360  38.566850   29760021    369365      115800   \n",
       "12   3  -97.750522  30.305880   16986510    465622       72600   \n",
       "14  22  -86.284287  32.354400    4040587    187106       62200   \n",
       "34   5  -76.884503  40.276050   11881643     52376       38400   \n",
       "44   6  -89.644654  39.781433   11430602    105227       59200   \n",
       "\n",
       "                  CITY  demande  \n",
       "0    < Sacramento CA >     19.0  \n",
       "12       < Austin TX >     10.0  \n",
       "14   < Montgomery AL >     16.0  \n",
       "34   < Harrisburg PA >     33.0  \n",
       "44  < Springfield IL >     22.0  "
      ]
     },
     "execution_count": 179,
     "metadata": {},
     "output_type": "execute_result"
    }
   ],
   "source": [
    "facility_solution = df.iloc[[key for key in Y if Y[key].solution_value == 1]]\n",
    "demand_served = pd.DataFrame([[df.iloc[j].name,df.iloc[i][\"STATE POP\"]] for i,j in X if X[i,j].solution_value == 1],columns=[\"\",\"demande\"]) \\\n",
    "                    .groupby(\"\").sum() \\\n",
    "                    .apply(lambda x: 100 * x / float(x.sum())).round()\n",
    "\n",
    "facility_solution.join(demand_served)"
   ]
  },
  {
   "cell_type": "code",
   "execution_count": null,
   "metadata": {},
   "outputs": [],
   "source": []
  }
 ],
 "metadata": {
  "kernelspec": {
   "display_name": "Python 3",
   "language": "python",
   "name": "python3"
  },
  "language_info": {
   "codemirror_mode": {
    "name": "ipython",
    "version": 3
   },
   "file_extension": ".py",
   "mimetype": "text/x-python",
   "name": "python",
   "nbconvert_exporter": "python",
   "pygments_lexer": "ipython3",
   "version": "3.6.8"
  }
 },
 "nbformat": 4,
 "nbformat_minor": 2
}
