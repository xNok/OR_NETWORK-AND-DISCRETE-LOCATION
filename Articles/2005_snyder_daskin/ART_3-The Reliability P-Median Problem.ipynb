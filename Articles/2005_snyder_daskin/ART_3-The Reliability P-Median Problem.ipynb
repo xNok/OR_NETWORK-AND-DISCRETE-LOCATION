{
 "cells": [
  {
   "cell_type": "markdown",
   "metadata": {},
   "source": [
    "Reliability Models for Facility Location:The Expected Failure Cost Case\n",
    "===\n",
    "\n",
    "Base on the following article:\n",
    "\n",
    "*Snyder, L. V., & Daskin, M. S. (2005). Reliability models for facility location: the expected failure cost case. Transportation Science, 39(3), 400-416.*\n",
    "\n",
    "Part III - The Reliability P-Median Problem\n",
    "---"
   ]
  },
  {
   "cell_type": "code",
   "execution_count": 6,
   "metadata": {},
   "outputs": [
    {
     "name": "stdout",
     "output_type": "stream",
     "text": [
      "The autoreload extension is already loaded. To reload it, use:\n",
      "  %reload_ext autoreload\n"
     ]
    }
   ],
   "source": [
    "# Colecting the problem\n",
    "import sys\n",
    "sys.path.append('../../PythonLib')\n",
    "\n",
    "from dataset.mongodb import MongoClient\n",
    "# Solving the problem\n",
    "from solvers.uflp import uflp\n",
    "# Representing the network\n",
    "from dataviz.network import Network\n",
    "\n",
    "from sklearn.neighbors import DistanceMetric\n",
    "from geopy.distance import great_circle\n",
    "\n",
    "import scipy as sp\n",
    "import numpy as np\n",
    "import pandas as pd\n",
    "\n",
    "%load_ext autoreload\n",
    "%autoreload 2"
   ]
  },
  {
   "cell_type": "markdown",
   "metadata": {},
   "source": [
    "First, we collect the dataset from our database using **MonClient**."
   ]
  },
  {
   "cell_type": "code",
   "execution_count": 7,
   "metadata": {},
   "outputs": [],
   "source": [
    "dataset = MongoClient(db = {\n",
    "# MongoClient let us connect to the database and manipulate our dataset\n",
    "    \"mongo_host\": \"ns396089.ip-37-59-38.eu\",\n",
    "    \"mongo_port\": 32771,\n",
    "    \"mongo_db_name\": \"NETWORK-AND-DISCRETE-LOCATION\"\n",
    "}, q = {\n",
    "    'metadata.author': 'Mark S. Daskin',\n",
    "    'metadata.topic': 'NETWORK-AND-DISCRETE-LOCATION',\n",
    "    'metadata.dataset': '49-nodes'\n",
    "},f=None)"
   ]
  },
  {
   "cell_type": "markdown",
   "metadata": {},
   "source": [
    "We can display the dataset using the method **get** which return a pandas Dataframe containing our data"
   ]
  },
  {
   "cell_type": "code",
   "execution_count": 8,
   "metadata": {},
   "outputs": [
    {
     "data": {
      "text/html": [
       "<div>\n",
       "<style scoped>\n",
       "    .dataframe tbody tr th:only-of-type {\n",
       "        vertical-align: middle;\n",
       "    }\n",
       "\n",
       "    .dataframe tbody tr th {\n",
       "        vertical-align: top;\n",
       "    }\n",
       "\n",
       "    .dataframe thead th {\n",
       "        text-align: right;\n",
       "    }\n",
       "</style>\n",
       "<table border=\"1\" class=\"dataframe\">\n",
       "  <thead>\n",
       "    <tr style=\"text-align: right;\">\n",
       "      <th></th>\n",
       "      <th>ID</th>\n",
       "      <th>LONGITUDE</th>\n",
       "      <th>LATITUDE</th>\n",
       "      <th>STATE POP</th>\n",
       "      <th>CITY POP</th>\n",
       "      <th>FIXED COST</th>\n",
       "      <th>CITY</th>\n",
       "    </tr>\n",
       "  </thead>\n",
       "  <tbody>\n",
       "    <tr>\n",
       "      <th>0</th>\n",
       "      <td>1</td>\n",
       "      <td>-121.467360</td>\n",
       "      <td>38.566850</td>\n",
       "      <td>29760021</td>\n",
       "      <td>369365</td>\n",
       "      <td>115800</td>\n",
       "      <td>&lt; Sacramento CA &gt;</td>\n",
       "    </tr>\n",
       "    <tr>\n",
       "      <th>1</th>\n",
       "      <td>2</td>\n",
       "      <td>-73.799017</td>\n",
       "      <td>42.665750</td>\n",
       "      <td>17990455</td>\n",
       "      <td>101082</td>\n",
       "      <td>101800</td>\n",
       "      <td>&lt; Albany NY &gt;</td>\n",
       "    </tr>\n",
       "    <tr>\n",
       "      <th>2</th>\n",
       "      <td>11</td>\n",
       "      <td>-84.422592</td>\n",
       "      <td>33.762900</td>\n",
       "      <td>6478216</td>\n",
       "      <td>394017</td>\n",
       "      <td>71200</td>\n",
       "      <td>&lt; Atlanta GA &gt;</td>\n",
       "    </tr>\n",
       "    <tr>\n",
       "      <th>3</th>\n",
       "      <td>12</td>\n",
       "      <td>-77.474584</td>\n",
       "      <td>37.531050</td>\n",
       "      <td>6187358</td>\n",
       "      <td>203056</td>\n",
       "      <td>66600</td>\n",
       "      <td>&lt; Richmond VA &gt;</td>\n",
       "    </tr>\n",
       "    <tr>\n",
       "      <th>4</th>\n",
       "      <td>13</td>\n",
       "      <td>-71.017892</td>\n",
       "      <td>42.336029</td>\n",
       "      <td>6016425</td>\n",
       "      <td>574283</td>\n",
       "      <td>161400</td>\n",
       "      <td>&lt; Boston MA &gt;</td>\n",
       "    </tr>\n",
       "  </tbody>\n",
       "</table>\n",
       "</div>"
      ],
      "text/plain": [
       "   ID   LONGITUDE   LATITUDE  STATE POP  CITY POP  FIXED COST  \\\n",
       "0   1 -121.467360  38.566850   29760021    369365      115800   \n",
       "1   2  -73.799017  42.665750   17990455    101082      101800   \n",
       "2  11  -84.422592  33.762900    6478216    394017       71200   \n",
       "3  12  -77.474584  37.531050    6187358    203056       66600   \n",
       "4  13  -71.017892  42.336029    6016425    574283      161400   \n",
       "\n",
       "                CITY  \n",
       "0  < Sacramento CA >  \n",
       "1      < Albany NY >  \n",
       "2     < Atlanta GA >  \n",
       "3    < Richmond VA >  \n",
       "4      < Boston MA >  "
      ]
     },
     "execution_count": 8,
     "metadata": {},
     "output_type": "execute_result"
    }
   ],
   "source": [
    "df = dataset.get()\n",
    "df.head()"
   ]
  },
  {
   "cell_type": "markdown",
   "metadata": {},
   "source": [
    "The reliable P-median objective aims to minimise of the weighted sum of the **operating cost** and the **expected failure cost**. Each facility as an expected **failure pobability**."
   ]
  },
  {
   "cell_type": "code",
   "execution_count": null,
   "metadata": {},
   "outputs": [],
   "source": []
  }
 ],
 "metadata": {
  "kernelspec": {
   "display_name": "Python 3",
   "language": "python",
   "name": "python3"
  },
  "language_info": {
   "codemirror_mode": {
    "name": "ipython",
    "version": 3
   },
   "file_extension": ".py",
   "mimetype": "text/x-python",
   "name": "python",
   "nbconvert_exporter": "python",
   "pygments_lexer": "ipython3",
   "version": "3.6.8"
  }
 },
 "nbformat": 4,
 "nbformat_minor": 2
}
