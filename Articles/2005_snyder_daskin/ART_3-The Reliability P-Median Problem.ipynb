{
 "cells": [
  {
   "cell_type": "markdown",
   "metadata": {},
   "source": [
    "Reliability Models for Facility Location:The Expected Failure Cost Case\n",
    "===\n",
    "\n",
    "Base on the following article:\n",
    "\n",
    "*Snyder, L. V., & Daskin, M. S. (2005). Reliability models for facility location: the expected failure cost case. Transportation Science, 39(3), 400-416.*\n",
    "\n",
    "Part III - The Reliability P-Median Problem\n",
    "---"
   ]
  },
  {
   "cell_type": "code",
   "execution_count": 15,
   "metadata": {},
   "outputs": [
    {
     "name": "stdout",
     "output_type": "stream",
     "text": [
      "The autoreload extension is already loaded. To reload it, use:\n",
      "  %reload_ext autoreload\n"
     ]
    }
   ],
   "source": [
    "# Colecting the problem\n",
    "import sys\n",
    "sys.path.append('../../PythonLib')\n",
    "\n",
    "from dataset.mongodb import MongoClient\n",
    "# Solving the problem\n",
    "from solvers.uflp import uflp\n",
    "# Representing the network\n",
    "from dataviz.network import Network\n",
    "\n",
    "from sklearn.neighbors import DistanceMetric\n",
    "from geopy.distance import great_circle\n",
    "\n",
    "import scipy as sp\n",
    "import numpy as np\n",
    "import pandas as pd\n",
    "\n",
    "%load_ext autoreload\n",
    "%autoreload 2"
   ]
  },
  {
   "cell_type": "markdown",
   "metadata": {},
   "source": [
    "First, we collect the dataset from our database using **MonClient**."
   ]
  },
  {
   "cell_type": "code",
   "execution_count": 16,
   "metadata": {},
   "outputs": [],
   "source": [
    "dataset = MongoClient(db = {\n",
    "# MongoClient let us connect to the database and manipulate our dataset\n",
    "    \"mongo_host\": \"ns396089.ip-37-59-38.eu\",\n",
    "    \"mongo_port\": 32771,\n",
    "    \"mongo_db_name\": \"NETWORK-AND-DISCRETE-LOCATION\"\n",
    "}, q = {\n",
    "    'metadata.author': 'Mark S. Daskin',\n",
    "    'metadata.topic': 'NETWORK-AND-DISCRETE-LOCATION',\n",
    "    'metadata.dataset': '49-nodes'\n",
    "},f=None)"
   ]
  },
  {
   "cell_type": "markdown",
   "metadata": {},
   "source": [
    "We can display the dataset using the method **get** which return a pandas Dataframe containing our data"
   ]
  },
  {
   "cell_type": "code",
   "execution_count": 28,
   "metadata": {},
   "outputs": [],
   "source": [
    "df = dataset.get()\n",
    "df.head()\n",
    "\n",
    "df = df.append({'ID' : '' , 'CITY' : \"Dummy\", \"STATE POP\": sum(df[\"STATE POP\"])} , ignore_index=True)"
   ]
  },
  {
   "cell_type": "markdown",
   "metadata": {},
   "source": [
    "The reliable P-median objective aims to minimise of the weighted sum of the **operating cost** and the **expected failure cost**. Let consider a set of **Customers** ($I$), and a set of potential location we called **Facilities** ($J$). The set of **Facilities** ($J$) is devided in two, one is the set of **nonfailable facility** ($NF$) and the set of facilities that may fail ($F$), $NF \\cup F = J$. Each *customer* node has an associated **demande** ($h_i$). The cost **shiping cost** ($d_{ij}$) represent to deliver a unit of demande from a *facility* to a *customer*. Each customer applies an **penalty** ($\\theta_i$) for each unit of demande that is not serve. \n",
    "\n",
    "The **penalty** ($\\theta_i$) is incure if all facilites have failled are if the value of that penalty is smaller than the **shiping cost** ($d_{ij}$) to any of the existing facilities. To model this, we add an **emergency facility** ($u \\in NF$) that is nonfailiable and as a transportation cost equals to the **penalty**.\n",
    "\n",
    "Each facility as an expected **failure pobability** ($q_j$)."
   ]
  },
  {
   "cell_type": "code",
   "execution_count": 59,
   "metadata": {},
   "outputs": [],
   "source": [
    "#P-Median Problem\n",
    "P=5\n",
    "alpha = 0.5\n",
    "dummy_id = 49\n",
    "\n",
    "\n",
    "\n",
    "# Sets of Customers abd Facilities\n",
    "I  = Customers  = df.index\n",
    "J  = Facilities = df.index\n",
    "F  = J[:-1]\n",
    "NF = [J[-1]]\n",
    "\n",
    "# Sphiping cost\n",
    "## Demande are set to the state populatio divides by  10^5 for 49-nodes and 10^4 for the others\n",
    "h = demande = df[\"STATE POP\"] / 100000\n",
    "## the transportation cost is set to the great circle distance between i and j\n",
    "d = shiping_cost = DistanceMetric.get_metric('haversine').pairwise(df[[\"LATITUDE\",\"LONGITUDE\"]].apply(np.radians)) * 3959\n",
    "\n",
    "# Penalty for not shiping (Nan value represente value for the dummy facility becaut it as not Longitude or latitude)\n",
    "d[np.isnan(d)] = 10000\n",
    "\n",
    "# Probability of failure\n",
    "## the probability of faillure was set to 0.05\n",
    "q = failure_probability = 0.05"
   ]
  },
  {
   "cell_type": "markdown",
   "metadata": {},
   "source": [
    "Similarly to UFLP there is two set of decision variables: **locations variables** ($X$) and **assignements variables** ($Y$)\n",
    "$$\n",
    "X_j =\\left\\{\n",
    "        \\begin{array}{ll}\n",
    "          1, \\text{if a facility is open}\\\\\n",
    "          0, \\text{otherwise}\\\\\n",
    "        \\end{array}\n",
    "      \\right.\n",
    "$$\n",
    "\n",
    "$$\n",
    "Y_{ijr} =\\left\\{\n",
    "        \\begin{array}{ll}\n",
    "          1, \\text{if demand node i is assignement to j as a level r-assignement}\\\\\n",
    "          0, \\text{otherwise}\\\\\n",
    "        \\end{array}\n",
    "      \\right.\n",
    "$$"
   ]
  },
  {
   "cell_type": "code",
   "execution_count": 60,
   "metadata": {},
   "outputs": [],
   "source": [
    "from docplex.mp.model import Model\n",
    "###################\n",
    "# create one model instance\n",
    "m = Model(name=\"Reliable P-Median problem\")\n",
    "\n",
    "###################\n",
    "# Define variables\n",
    "\n",
    "# x(j) equals 1 if node j in the solution\n",
    "X = m.binary_var_dict([(j) \n",
    "                      for j in J], name=\"X\")\n",
    "# y(j,j,r) equales 1 if node j is in the solution\n",
    "Y = m.binary_var_dict([(i,j,r) \n",
    "                      for i in I\n",
    "                      for j in J\n",
    "                      for r in range(P-1)], name=\"Y\")"
   ]
  },
  {
   "cell_type": "markdown",
   "metadata": {},
   "source": [
    "The objective $w_1$ mesure the operation cost related to the P-median problem. The objective $w_2$ compute the expected cost of failure."
   ]
  },
  {
   "cell_type": "markdown",
   "metadata": {},
   "source": [
    "$$\n",
    "w_1 = \\sum_{i \\in I} \\sum_{j \\in J} h_i d_{ij} Y_{ij0}\n",
    "$$\n",
    "\n",
    "$$\n",
    "w_2 = \\sum_{i \\in I} h_i [ \\sum_{j \\in NF} \\sum_{r=0}^{p-1} d_{ij} q^{r} Y_{ijr} + \\sum_{j \\in F} \\sum_{r=0}^{p-1} d_{ij} (1-q) Y_{ijr} ]\n",
    "$$"
   ]
  },
  {
   "cell_type": "code",
   "execution_count": 61,
   "metadata": {},
   "outputs": [],
   "source": [
    "###################\n",
    "# Define Objective\n",
    "w1 = m.sum(h[i] * d[i][j] * Y[i,j,0] for i in I for j in J)\n",
    "w2_NF = q * m.sum(h[i] * d[i][j] * Y[i,j,r] for j in NF for i in I for r in range(P-1))\n",
    "w2_F  = (1 - q)  * m.sum(h[i] * d[i][j] * Y[i,j,r] for j in F for i in I for r in range(P-1))\n",
    "w2 = w2_NF + w2_F\n",
    "\n",
    "m.minimize(alpha * w1 + (1-alpha) * w2)"
   ]
  },
  {
   "cell_type": "code",
   "execution_count": 62,
   "metadata": {},
   "outputs": [
    {
     "data": {
      "text/plain": [
       "DecisionKPI(name=Expected Failure cost,expr=702004.386Y_(0, 1, 0)+702004.386Y_(0, 1, 1)+702004.386Y_(0, 1, 2..)"
      ]
     },
     "execution_count": 62,
     "metadata": {},
     "output_type": "execute_result"
    }
   ],
   "source": [
    "###################\n",
    "# Define KPI\n",
    "m.add_kpi(w1, \"Operating cost\")\n",
    "m.add_kpi(w2, \"Expected Failure cost\")"
   ]
  },
  {
   "cell_type": "code",
   "execution_count": 65,
   "metadata": {},
   "outputs": [
    {
     "data": {
      "text/plain": [
       "docplex.mp.LinearConstraint[dummy_facility](X_49,EQ,1)"
      ]
     },
     "execution_count": 65,
     "metadata": {},
     "output_type": "execute_result"
    }
   ],
   "source": [
    "###################\n",
    "# Define Constraints\n",
    "\n",
    "## 1\n",
    "for i in I:\n",
    "    for r in range(P-1):\n",
    "        m.add_constraint(m.sum(Y[i,j,r] for j in J) + m.sum(Y[i,j,s] for j in NF for s in range(P-1)) == 1, ctname='assignement_%s_%s' % (i,r))\n",
    "## 2\n",
    "for i in I:\n",
    "    for j in J:\n",
    "        for r in range(P-1):\n",
    "            m.add_constraint(Y[i,j,r] - X[j] <= 0, ctname='closed_facility_%s_%s_%s' % (i,j,r))\n",
    "            \n",
    "## 3\n",
    "m.add_constraint(m.sum(X[j] for j in J) <= P, ctname='p_median')\n",
    "\n",
    "## 4\n",
    "for i in I:\n",
    "    for j in J:\n",
    "        m.add_constraint(m.sum(Y[i,j,r] for r in range(P-1)) == 1, ctname='single_lvl_assignement_%s_%s' % (i,j))\n",
    "        \n",
    "## 5\n",
    "m.add_constraint(X[dummy_id] == 1, ctname='dummy_facility')"
   ]
  },
  {
   "cell_type": "code",
   "execution_count": null,
   "metadata": {},
   "outputs": [],
   "source": []
  }
 ],
 "metadata": {
  "kernelspec": {
   "display_name": "Python 3",
   "language": "python",
   "name": "python3"
  },
  "language_info": {
   "codemirror_mode": {
    "name": "ipython",
    "version": 3
   },
   "file_extension": ".py",
   "mimetype": "text/x-python",
   "name": "python",
   "nbconvert_exporter": "python",
   "pygments_lexer": "ipython3",
   "version": "3.6.8"
  }
 },
 "nbformat": 4,
 "nbformat_minor": 2
}
