{
 "cells": [
  {
   "cell_type": "markdown",
   "metadata": {},
   "source": [
    "Reliability Models for Facility Location:The Expected Failure Cost Case\n",
    "===\n",
    "\n",
    "Base on the following article:\n",
    "\n",
    "*Snyder, L. V., & Daskin, M. S. (2005). Reliability models for facility location: the expected failure cost case. Transportation Science, 39(3), 400-416.*\n",
    "\n",
    "Part II - Literature Reviewww\n",
    "---"
   ]
  },
  {
   "cell_type": "code",
   "execution_count": 2,
   "metadata": {},
   "outputs": [],
   "source": [
    "# Colecting the problem\n",
    "import sys\n",
    "sys.path.append('../../PythonLib')"
   ]
  },
  {
   "cell_type": "code",
   "execution_count": 3,
   "metadata": {},
   "outputs": [],
   "source": [
    "bibtex = \"\"\"\n",
    "@article{article,\n",
    "    author = {Snyder, Lawrence and Daskin, Mark},\n",
    "    year = {2005},\n",
    "    month = {08},\n",
    "    pages = {400-416},\n",
    "    title = {Reliability Models for Facility Location: The Expected Failure Cost Case},\n",
    "    volume = {39},\n",
    "    journal = {Transportation Science},\n",
    "    doi = {10.1287/trsc.1040.0107}\n",
    "}\n",
    "\"\"\""
   ]
  },
  {
   "cell_type": "code",
   "execution_count": null,
   "metadata": {},
   "outputs": [],
   "source": []
  }
 ],
 "metadata": {
  "kernelspec": {
   "display_name": "Python 3",
   "language": "python",
   "name": "python3"
  },
  "language_info": {
   "codemirror_mode": {
    "name": "ipython",
    "version": 3
   },
   "file_extension": ".py",
   "mimetype": "text/x-python",
   "name": "python",
   "nbconvert_exporter": "python",
   "pygments_lexer": "ipython3",
   "version": "3.6.8"
  }
 },
 "nbformat": 4,
 "nbformat_minor": 2
}
