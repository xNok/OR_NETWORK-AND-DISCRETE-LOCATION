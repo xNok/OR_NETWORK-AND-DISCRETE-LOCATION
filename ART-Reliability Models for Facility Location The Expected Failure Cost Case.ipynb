{
 "cells": [
  {
   "cell_type": "markdown",
   "metadata": {},
   "source": [
    "Reliability Models for Facility Location:The Expected Failure Cost Case\n",
    "---\n",
    "\n",
    "Base on the following article:\n",
    "\n",
    "*Snyder, L. V., & Daskin, M. S. (2005). Reliability models for facility location: the expected failure cost case. Transportation Science, 39(3), 400-416.*"
   ]
  },
  {
   "cell_type": "code",
   "execution_count": 112,
   "metadata": {},
   "outputs": [
    {
     "name": "stdout",
     "output_type": "stream",
     "text": [
      "The autoreload extension is already loaded. To reload it, use:\n",
      "  %reload_ext autoreload\n"
     ]
    }
   ],
   "source": [
    "# Colecting the problem\n",
    "from PythonLib.dataset.mongodb import MongoClient\n",
    "# Solving the problem\n",
    "from PythonLib.solvers.uflp import uflp\n",
    "# Representing the network\n",
    "from PythonLib.dataviz.network import Network\n",
    "\n",
    "from sklearn.neighbors import DistanceMetric\n",
    "import numpy as np\n",
    "import pandas as pd\n",
    "\n",
    "%load_ext autoreload\n",
    "%autoreload 2"
   ]
  },
  {
   "cell_type": "code",
   "execution_count": 113,
   "metadata": {},
   "outputs": [],
   "source": [
    "dataset = MongoClient({\n",
    "    \"mongo_host\": \"ns396089.ip-37-59-38.eu\",\n",
    "    \"mongo_port\": 32771,\n",
    "    \"mongo_db_nane\": \"NETWORK-AND-DISCRETE-LOCATION\"\n",
    "})\n",
    "network = Network(dataset)"
   ]
  },
  {
   "cell_type": "code",
   "execution_count": 114,
   "metadata": {},
   "outputs": [],
   "source": [
    "I = network.df.index.tolist()\n",
    "J = network.df.index.tolist()\n",
    "f = network.df[\"FIXED COST\"]\n",
    "# Distance matrix in Km frm long/lat\n",
    "c = DistanceMetric.get_metric('haversine').pairwise(network.df[[\"LATITUDE\",\"LONGITUDE\"]].apply(np.radians))  * 6371"
   ]
  },
  {
   "cell_type": "code",
   "execution_count": 115,
   "metadata": {},
   "outputs": [
    {
     "ename": "NameError",
     "evalue": "name 'Model' is not defined",
     "output_type": "error",
     "traceback": [
      "\u001b[0;31m---------------------------------------------------------------------------\u001b[0m",
      "\u001b[0;31mNameError\u001b[0m                                 Traceback (most recent call last)",
      "\u001b[0;32m<ipython-input-115-e5a120ff4e36>\u001b[0m in \u001b[0;36m<module>\u001b[0;34m()\u001b[0m\n\u001b[0;32m----> 1\u001b[0;31m \u001b[0mm\u001b[0m \u001b[0;34m=\u001b[0m \u001b[0muflp\u001b[0m\u001b[0;34m(\u001b[0m\u001b[0mI\u001b[0m\u001b[0;34m,\u001b[0m \u001b[0mJ\u001b[0m\u001b[0;34m,\u001b[0m \u001b[0mf\u001b[0m\u001b[0;34m,\u001b[0m \u001b[0mc\u001b[0m\u001b[0;34m,\u001b[0m \u001b[0mname\u001b[0m\u001b[0;34m=\u001b[0m\u001b[0;34m'UFLP'\u001b[0m\u001b[0;34m)\u001b[0m\u001b[0;34m\u001b[0m\u001b[0m\n\u001b[0m",
      "\u001b[0;32m~/work/OR_NETWORK-AND-DISCRETE-LOCATION/PythonLib/solvers/uflp.py\u001b[0m in \u001b[0;36muflp\u001b[0;34m(I, J, f, c, name)\u001b[0m\n\u001b[1;32m      2\u001b[0m     \u001b[0;31m###################\u001b[0m\u001b[0;34m\u001b[0m\u001b[0;34m\u001b[0m\u001b[0m\n\u001b[1;32m      3\u001b[0m     \u001b[0;31m# create one model instance\u001b[0m\u001b[0;34m\u001b[0m\u001b[0;34m\u001b[0m\u001b[0m\n\u001b[0;32m----> 4\u001b[0;31m     \u001b[0mm\u001b[0m \u001b[0;34m=\u001b[0m \u001b[0mModel\u001b[0m\u001b[0;34m(\u001b[0m\u001b[0mname\u001b[0m\u001b[0;34m=\u001b[0m\u001b[0;34m'UFLP'\u001b[0m\u001b[0;34m)\u001b[0m\u001b[0;34m\u001b[0m\u001b[0m\n\u001b[0m\u001b[1;32m      5\u001b[0m \u001b[0;34m\u001b[0m\u001b[0m\n\u001b[1;32m      6\u001b[0m     \u001b[0;31m###################\u001b[0m\u001b[0;34m\u001b[0m\u001b[0;34m\u001b[0m\u001b[0m\n",
      "\u001b[0;31mNameError\u001b[0m: name 'Model' is not defined"
     ]
    }
   ],
   "source": [
    "m = uflp(I, J, f, c, name='UFLP')"
   ]
  },
  {
   "cell_type": "code",
   "execution_count": 101,
   "metadata": {},
   "outputs": [
    {
     "name": "stdout",
     "output_type": "stream",
     "text": [
      "* system is: Linux 64bit\n",
      "* Python is present, version is 3.6.5\n",
      "* docplex is present, version is (2, 4, 61)\n",
      "* CPLEX wrapper is present, version is 12.8.0.0, located at: /opt/conda/lib/python3.6/site-packages\n"
     ]
    }
   ],
   "source": [
    "from docplex.mp.environment import Environment\n",
    "env = Environment()\n",
    "env.print_information()"
   ]
  },
  {
   "cell_type": "code",
   "execution_count": 102,
   "metadata": {},
   "outputs": [
    {
     "name": "stdout",
     "output_type": "stream",
     "text": [
      "Model: UFLP\n",
      " - number of variables: 2450\n",
      "   - binary=2450, integer=0, continuous=0\n",
      " - number of constraints: 2450\n",
      "   - linear=2450\n",
      " - parameters: defaults\n"
     ]
    }
   ],
   "source": [
    "m.print_information()"
   ]
  },
  {
   "cell_type": "code",
   "execution_count": 103,
   "metadata": {},
   "outputs": [],
   "source": [
    "solution = m.solve()"
   ]
  },
  {
   "cell_type": "code",
   "execution_count": 104,
   "metadata": {},
   "outputs": [
    {
     "name": "stdout",
     "output_type": "stream",
     "text": [
      "solution for: UFLP\n",
      "objective: 3819100.000\n",
      "X_0_0 = 1\n",
      "X_1_1 = 1\n",
      "X_2_2 = 1\n",
      "X_3_3 = 1\n",
      "X_4_4 = 1\n",
      "X_5_5 = 1\n",
      "X_6_6 = 1\n",
      "X_7_7 = 1\n",
      "X_8_8 = 1\n",
      "X_9_9 = 1\n",
      "X_10_10 = 1\n",
      "X_11_11 = 1\n",
      "X_12_12 = 1\n",
      "X_13_13 = 1\n",
      "X_14_14 = 1\n",
      "X_15_15 = 1\n",
      "X_16_16 = 1\n",
      "X_17_17 = 1\n",
      "X_18_18 = 1\n",
      "X_19_19 = 1\n",
      "X_20_20 = 1\n",
      "X_21_21 = 1\n",
      "X_22_22 = 1\n",
      "X_23_23 = 1\n",
      "X_24_24 = 1\n",
      "X_25_25 = 1\n",
      "X_26_26 = 1\n",
      "X_27_27 = 1\n",
      "X_28_28 = 1\n",
      "X_29_29 = 1\n",
      "X_30_30 = 1\n",
      "X_31_31 = 1\n",
      "X_32_32 = 1\n",
      "X_33_33 = 1\n",
      "X_34_34 = 1\n",
      "X_35_35 = 1\n",
      "X_36_36 = 1\n",
      "X_37_37 = 1\n",
      "X_38_38 = 1\n",
      "X_39_39 = 1\n",
      "X_40_40 = 1\n",
      "X_41_41 = 1\n",
      "X_42_42 = 1\n",
      "X_43_43 = 1\n",
      "X_44_44 = 1\n",
      "X_45_45 = 1\n",
      "X_46_46 = 1\n",
      "X_47_47 = 1\n",
      "X_48_48 = 1\n",
      "Y_0 = 1\n",
      "Y_1 = 1\n",
      "Y_2 = 1\n",
      "Y_3 = 1\n",
      "Y_4 = 1\n",
      "Y_5 = 1\n",
      "Y_6 = 1\n",
      "Y_7 = 1\n",
      "Y_8 = 1\n",
      "Y_9 = 1\n",
      "Y_10 = 1\n",
      "Y_11 = 1\n",
      "Y_12 = 1\n",
      "Y_13 = 1\n",
      "Y_14 = 1\n",
      "Y_15 = 1\n",
      "Y_16 = 1\n",
      "Y_17 = 1\n",
      "Y_18 = 1\n",
      "Y_19 = 1\n",
      "Y_20 = 1\n",
      "Y_21 = 1\n",
      "Y_22 = 1\n",
      "Y_23 = 1\n",
      "Y_24 = 1\n",
      "Y_25 = 1\n",
      "Y_26 = 1\n",
      "Y_27 = 1\n",
      "Y_28 = 1\n",
      "Y_29 = 1\n",
      "Y_30 = 1\n",
      "Y_31 = 1\n",
      "Y_32 = 1\n",
      "Y_33 = 1\n",
      "Y_34 = 1\n",
      "Y_35 = 1\n",
      "Y_36 = 1\n",
      "Y_37 = 1\n",
      "Y_38 = 1\n",
      "Y_39 = 1\n",
      "Y_40 = 1\n",
      "Y_41 = 1\n",
      "Y_42 = 1\n",
      "Y_43 = 1\n",
      "Y_44 = 1\n",
      "Y_45 = 1\n",
      "Y_46 = 1\n",
      "Y_47 = 1\n",
      "Y_48 = 1\n"
     ]
    }
   ],
   "source": [
    "solution.display()"
   ]
  },
  {
   "cell_type": "code",
   "execution_count": 110,
   "metadata": {},
   "outputs": [
    {
     "data": {
      "text/plain": [
       "0.18138504028320312"
      ]
     },
     "execution_count": 110,
     "metadata": {},
     "output_type": "execute_result"
    }
   ],
   "source": [
    "solution.solve_details.time"
   ]
  },
  {
   "cell_type": "code",
   "execution_count": null,
   "metadata": {},
   "outputs": [],
   "source": []
  }
 ],
 "metadata": {
  "kernelspec": {
   "display_name": "Python 3",
   "language": "python",
   "name": "python3"
  },
  "language_info": {
   "codemirror_mode": {
    "name": "ipython",
    "version": 3
   },
   "file_extension": ".py",
   "mimetype": "text/x-python",
   "name": "python",
   "nbconvert_exporter": "python",
   "pygments_lexer": "ipython3",
   "version": "3.6.5"
  }
 },
 "nbformat": 4,
 "nbformat_minor": 2
}
