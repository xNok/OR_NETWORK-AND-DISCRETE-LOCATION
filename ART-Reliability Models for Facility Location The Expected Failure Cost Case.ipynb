{
 "cells": [
  {
   "cell_type": "markdown",
   "metadata": {},
   "source": [
    "Reliability Models for Facility Location:The Expected Failure Cost Case\n",
    "---\n",
    "\n",
    "Base on the following article:\n",
    "\n",
    "*Snyder, L. V., & Daskin, M. S. (2005). Reliability models for facility location: the expected failure cost case. Transportation Science, 39(3), 400-416.*"
   ]
  },
  {
   "cell_type": "code",
   "execution_count": 55,
   "metadata": {},
   "outputs": [
    {
     "name": "stdout",
     "output_type": "stream",
     "text": [
      "The autoreload extension is already loaded. To reload it, use:\n",
      "  %reload_ext autoreload\n"
     ]
    }
   ],
   "source": [
    "# Colecting the problem\n",
    "from PythonLib.dataset.mongodb import MongoClient\n",
    "# Solving the problem\n",
    "from PythonLib.solvers.uflp import uflp\n",
    "# Representing the network\n",
    "from PythonLib.dataviz.network import Network\n",
    "\n",
    "from sklearn.neighbors import DistanceMetric\n",
    "import numpy as np\n",
    "import pandas as pd\n",
    "\n",
    "%load_ext autoreload\n",
    "%autoreload 2"
   ]
  },
  {
   "cell_type": "markdown",
   "metadata": {},
   "source": [
    "First, we collect the dataset from our database using **MonClient**"
   ]
  },
  {
   "cell_type": "code",
   "execution_count": 56,
   "metadata": {},
   "outputs": [],
   "source": [
    "dataset = MongoClient(db = {\n",
    "# MongoClient let us connect to the database and manipulate our dataset\n",
    "    \"mongo_host\": \"ns396089.ip-37-59-38.eu\",\n",
    "    \"mongo_port\": 32771,\n",
    "    \"mongo_db_name\": \"NETWORK-AND-DISCRETE-LOCATION\"\n",
    "}, q = {\n",
    "    'metadata.author': 'Mark S. Daskin',\n",
    "    'metadata.topic': 'NETWORK-AND-DISCRETE-LOCATION',\n",
    "    'metadata.dataset': '49-nodes'\n",
    "},f=None)"
   ]
  },
  {
   "cell_type": "code",
   "execution_count": 58,
   "metadata": {},
   "outputs": [
    {
     "data": {
      "text/html": [
       "<div>\n",
       "<style scoped>\n",
       "    .dataframe tbody tr th:only-of-type {\n",
       "        vertical-align: middle;\n",
       "    }\n",
       "\n",
       "    .dataframe tbody tr th {\n",
       "        vertical-align: top;\n",
       "    }\n",
       "\n",
       "    .dataframe thead th {\n",
       "        text-align: right;\n",
       "    }\n",
       "</style>\n",
       "<table border=\"1\" class=\"dataframe\">\n",
       "  <thead>\n",
       "    <tr style=\"text-align: right;\">\n",
       "      <th></th>\n",
       "      <th>ID</th>\n",
       "      <th>LATITUDE</th>\n",
       "      <th>LONGITUDE</th>\n",
       "      <th>STATE POP</th>\n",
       "      <th>CITY POP</th>\n",
       "      <th>FIXED COST</th>\n",
       "      <th>CITY</th>\n",
       "    </tr>\n",
       "  </thead>\n",
       "  <tbody>\n",
       "    <tr>\n",
       "      <th>0</th>\n",
       "      <td>1</td>\n",
       "      <td>-121.467360</td>\n",
       "      <td>38.566850</td>\n",
       "      <td>29760021</td>\n",
       "      <td>369365</td>\n",
       "      <td>115800</td>\n",
       "      <td>&lt; Sacramento CA &gt;</td>\n",
       "    </tr>\n",
       "    <tr>\n",
       "      <th>1</th>\n",
       "      <td>2</td>\n",
       "      <td>-73.799017</td>\n",
       "      <td>42.665750</td>\n",
       "      <td>17990455</td>\n",
       "      <td>101082</td>\n",
       "      <td>101800</td>\n",
       "      <td>&lt; Albany NY &gt;</td>\n",
       "    </tr>\n",
       "    <tr>\n",
       "      <th>2</th>\n",
       "      <td>11</td>\n",
       "      <td>-84.422592</td>\n",
       "      <td>33.762900</td>\n",
       "      <td>6478216</td>\n",
       "      <td>394017</td>\n",
       "      <td>71200</td>\n",
       "      <td>&lt; Atlanta GA &gt;</td>\n",
       "    </tr>\n",
       "    <tr>\n",
       "      <th>3</th>\n",
       "      <td>12</td>\n",
       "      <td>-77.474584</td>\n",
       "      <td>37.531050</td>\n",
       "      <td>6187358</td>\n",
       "      <td>203056</td>\n",
       "      <td>66600</td>\n",
       "      <td>&lt; Richmond VA &gt;</td>\n",
       "    </tr>\n",
       "    <tr>\n",
       "      <th>4</th>\n",
       "      <td>13</td>\n",
       "      <td>-71.017892</td>\n",
       "      <td>42.336029</td>\n",
       "      <td>6016425</td>\n",
       "      <td>574283</td>\n",
       "      <td>161400</td>\n",
       "      <td>&lt; Boston MA &gt;</td>\n",
       "    </tr>\n",
       "  </tbody>\n",
       "</table>\n",
       "</div>"
      ],
      "text/plain": [
       "   ID    LATITUDE  LONGITUDE  STATE POP  CITY POP  FIXED COST  \\\n",
       "0   1 -121.467360  38.566850   29760021    369365      115800   \n",
       "1   2  -73.799017  42.665750   17990455    101082      101800   \n",
       "2  11  -84.422592  33.762900    6478216    394017       71200   \n",
       "3  12  -77.474584  37.531050    6187358    203056       66600   \n",
       "4  13  -71.017892  42.336029    6016425    574283      161400   \n",
       "\n",
       "                CITY  \n",
       "0  < Sacramento CA >  \n",
       "1      < Albany NY >  \n",
       "2     < Atlanta GA >  \n",
       "3    < Richmond VA >  \n",
       "4      < Boston MA >  "
      ]
     },
     "execution_count": 58,
     "metadata": {},
     "output_type": "execute_result"
    }
   ],
   "source": [
    "df = dataset.get()\n",
    "df.head()"
   ]
  },
  {
   "cell_type": "code",
   "execution_count": 61,
   "metadata": {},
   "outputs": [],
   "source": [
    "I = df.index.tolist()\n",
    "J = df.index.tolist()\n",
    "f = df[\"FIXED COST\"]\n",
    "# Distance matrix in Km frm long/lat\n",
    "c = DistanceMetric.get_metric('haversine').pairwise(df[[\"LATITUDE\",\"LONGITUDE\"]].apply(np.radians))  * 6371"
   ]
  },
  {
   "cell_type": "code",
   "execution_count": 62,
   "metadata": {},
   "outputs": [],
   "source": [
    "m = uflp(I, J, f, c, name='UFLP')"
   ]
  },
  {
   "cell_type": "code",
   "execution_count": 63,
   "metadata": {},
   "outputs": [
    {
     "name": "stdout",
     "output_type": "stream",
     "text": [
      "* system is: Linux 64bit\n",
      "* Python is present, version is 3.6.5\n",
      "* docplex is present, version is (2, 4, 61)\n",
      "* CPLEX wrapper is present, version is 12.8.0.0, located at: /opt/conda/lib/python3.6/site-packages\n"
     ]
    }
   ],
   "source": [
    "from docplex.mp.environment import Environment\n",
    "env = Environment()\n",
    "env.print_information()"
   ]
  },
  {
   "cell_type": "code",
   "execution_count": 64,
   "metadata": {},
   "outputs": [
    {
     "name": "stdout",
     "output_type": "stream",
     "text": [
      "Model: UFLP\n",
      " - number of variables: 2450\n",
      "   - binary=2450, integer=0, continuous=0\n",
      " - number of constraints: 2450\n",
      "   - linear=2450\n",
      " - parameters: defaults\n"
     ]
    }
   ],
   "source": [
    "m.print_information()"
   ]
  },
  {
   "cell_type": "code",
   "execution_count": 65,
   "metadata": {},
   "outputs": [],
   "source": [
    "solution = m.solve()"
   ]
  },
  {
   "cell_type": "code",
   "execution_count": 66,
   "metadata": {},
   "outputs": [
    {
     "name": "stdout",
     "output_type": "stream",
     "text": [
      "solution for: UFLP\n",
      "objective: 3819100.000\n",
      "X_0_0 = 1\n",
      "X_1_1 = 1\n",
      "X_2_2 = 1\n",
      "X_3_3 = 1\n",
      "X_4_4 = 1\n",
      "X_5_5 = 1\n",
      "X_6_6 = 1\n",
      "X_7_7 = 1\n",
      "X_8_8 = 1\n",
      "X_9_9 = 1\n",
      "X_10_10 = 1\n",
      "X_11_11 = 1\n",
      "X_12_12 = 1\n",
      "X_13_13 = 1\n",
      "X_14_14 = 1\n",
      "X_15_15 = 1\n",
      "X_16_16 = 1\n",
      "X_17_17 = 1\n",
      "X_18_18 = 1\n",
      "X_19_19 = 1\n",
      "X_20_20 = 1\n",
      "X_21_21 = 1\n",
      "X_22_22 = 1\n",
      "X_23_23 = 1\n",
      "X_24_24 = 1\n",
      "X_25_25 = 1\n",
      "X_26_26 = 1\n",
      "X_27_27 = 1\n",
      "X_28_28 = 1\n",
      "X_29_29 = 1\n",
      "X_30_30 = 1\n",
      "X_31_31 = 1\n",
      "X_32_32 = 1\n",
      "X_33_33 = 1\n",
      "X_34_34 = 1\n",
      "X_35_35 = 1\n",
      "X_36_36 = 1\n",
      "X_37_37 = 1\n",
      "X_38_38 = 1\n",
      "X_39_39 = 1\n",
      "X_40_40 = 1\n",
      "X_41_41 = 1\n",
      "X_42_42 = 1\n",
      "X_43_43 = 1\n",
      "X_44_44 = 1\n",
      "X_45_45 = 1\n",
      "X_46_46 = 1\n",
      "X_47_47 = 1\n",
      "X_48_48 = 1\n",
      "Y_0 = 1\n",
      "Y_1 = 1\n",
      "Y_2 = 1\n",
      "Y_3 = 1\n",
      "Y_4 = 1\n",
      "Y_5 = 1\n",
      "Y_6 = 1\n",
      "Y_7 = 1\n",
      "Y_8 = 1\n",
      "Y_9 = 1\n",
      "Y_10 = 1\n",
      "Y_11 = 1\n",
      "Y_12 = 1\n",
      "Y_13 = 1\n",
      "Y_14 = 1\n",
      "Y_15 = 1\n",
      "Y_16 = 1\n",
      "Y_17 = 1\n",
      "Y_18 = 1\n",
      "Y_19 = 1\n",
      "Y_20 = 1\n",
      "Y_21 = 1\n",
      "Y_22 = 1\n",
      "Y_23 = 1\n",
      "Y_24 = 1\n",
      "Y_25 = 1\n",
      "Y_26 = 1\n",
      "Y_27 = 1\n",
      "Y_28 = 1\n",
      "Y_29 = 1\n",
      "Y_30 = 1\n",
      "Y_31 = 1\n",
      "Y_32 = 1\n",
      "Y_33 = 1\n",
      "Y_34 = 1\n",
      "Y_35 = 1\n",
      "Y_36 = 1\n",
      "Y_37 = 1\n",
      "Y_38 = 1\n",
      "Y_39 = 1\n",
      "Y_40 = 1\n",
      "Y_41 = 1\n",
      "Y_42 = 1\n",
      "Y_43 = 1\n",
      "Y_44 = 1\n",
      "Y_45 = 1\n",
      "Y_46 = 1\n",
      "Y_47 = 1\n",
      "Y_48 = 1\n"
     ]
    }
   ],
   "source": [
    "solution.display()"
   ]
  },
  {
   "cell_type": "code",
   "execution_count": 67,
   "metadata": {},
   "outputs": [
    {
     "data": {
      "text/plain": [
       "0.2638261318206787"
      ]
     },
     "execution_count": 67,
     "metadata": {},
     "output_type": "execute_result"
    }
   ],
   "source": [
    "solution.solve_details.time"
   ]
  },
  {
   "cell_type": "code",
   "execution_count": null,
   "metadata": {},
   "outputs": [],
   "source": []
  }
 ],
 "metadata": {
  "kernelspec": {
   "display_name": "Python 3",
   "language": "python",
   "name": "python3"
  },
  "language_info": {
   "codemirror_mode": {
    "name": "ipython",
    "version": 3
   },
   "file_extension": ".py",
   "mimetype": "text/x-python",
   "name": "python",
   "nbconvert_exporter": "python",
   "pygments_lexer": "ipython3",
   "version": "3.6.5"
  }
 },
 "nbformat": 4,
 "nbformat_minor": 2
}
