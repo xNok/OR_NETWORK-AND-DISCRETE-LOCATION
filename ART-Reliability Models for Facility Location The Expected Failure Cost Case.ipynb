{
 "cells": [
  {
   "cell_type": "markdown",
   "metadata": {},
   "source": [
    "Reliability Models for Facility Location:The Expected Failure Cost Case\n",
    "---\n",
    "\n",
    "Base on the following article:\n",
    "\n",
    "*Snyder, L. V., & Daskin, M. S. (2005). Reliability models for facility location: the expected failure cost case. Transportation Science, 39(3), 400-416.*"
   ]
  },
  {
   "cell_type": "code",
   "execution_count": 6,
   "metadata": {},
   "outputs": [],
   "source": [
    "from docplex.mp.model import Model"
   ]
  },
  {
   "cell_type": "code",
   "execution_count": 7,
   "metadata": {},
   "outputs": [],
   "source": [
    "I = range(10)\n",
    "J = range(10)\n",
    "c = [[1 for i in I] for j in J]\n",
    "f = [1 for j in J]"
   ]
  },
  {
   "cell_type": "code",
   "execution_count": 13,
   "metadata": {},
   "outputs": [],
   "source": [
    "###################\n",
    "# create one model instance\n",
    "m = Model(name='UFLP')\n",
    "\n",
    "###################\n",
    "# Define variables\n",
    "\n",
    "# x(i,j) equals 1 if arc ij is in the solution\n",
    "X = {\n",
    "    (i,j): m.binary_var(name='X_%d_%d' % (i,j))\n",
    "     for i in I for j in J\n",
    "} \n",
    "# y(j) equales 1 if node j is in the solution\n",
    "Y = {\n",
    "    (j): m.binary_var(name='Y_%d}' % (j))\n",
    "    for j in J\n",
    "}\n",
    "\n",
    "###################\n",
    "# Define Objective\n",
    "m.minimize(m.sum(X[i,j] * c[i][j] for i in I for j in J) \\\n",
    "          + m.sum(Y[j] * f[j] for j in J))\n",
    "\n",
    "###################\n",
    "# Define constraints\n",
    "\n",
    "# constraint #1: each customer is affected to a facility\n",
    "for j in J:\n",
    "    m.add_constraint(m.sum(X[i,j] for i in I) == 1, ctname='demande_%s' % j)\n",
    "\n",
    "# constraint #2: customer can only be associated to open facilities\n",
    "for i in I:\n",
    "    for j in J:\n",
    "        m.add_constraint(X[i,j] <= Y[j], ctname='flow_%s_%s' % (i,j))\n",
    "\n"
   ]
  },
  {
   "cell_type": "code",
   "execution_count": 14,
   "metadata": {},
   "outputs": [
    {
     "name": "stdout",
     "output_type": "stream",
     "text": [
      "* system is: Linux 64bit\n",
      "* Python is present, version is 3.6.5\n",
      "* docplex is present, version is (2, 4, 61)\n",
      "* CPLEX wrapper is present, version is 12.8.0.0, located at: /opt/conda/lib/python3.6/site-packages\n"
     ]
    }
   ],
   "source": [
    "from docplex.mp.environment import Environment\n",
    "env = Environment()\n",
    "env.print_information()"
   ]
  },
  {
   "cell_type": "code",
   "execution_count": 15,
   "metadata": {},
   "outputs": [
    {
     "name": "stdout",
     "output_type": "stream",
     "text": [
      "Model: UFLP\n",
      " - number of variables: 110\n",
      "   - binary=110, integer=0, continuous=0\n",
      " - number of constraints: 110\n",
      "   - linear=110\n",
      " - parameters: defaults\n"
     ]
    }
   ],
   "source": [
    "m.print_information()"
   ]
  },
  {
   "cell_type": "code",
   "execution_count": null,
   "metadata": {},
   "outputs": [],
   "source": []
  }
 ],
 "metadata": {
  "kernelspec": {
   "display_name": "Python 3",
   "language": "python",
   "name": "python3"
  },
  "language_info": {
   "codemirror_mode": {
    "name": "ipython",
    "version": 3
   },
   "file_extension": ".py",
   "mimetype": "text/x-python",
   "name": "python",
   "nbconvert_exporter": "python",
   "pygments_lexer": "ipython3",
   "version": "3.6.5"
  }
 },
 "nbformat": 4,
 "nbformat_minor": 2
}
