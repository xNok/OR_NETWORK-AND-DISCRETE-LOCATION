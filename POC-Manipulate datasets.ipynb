{
 "cells": [
  {
   "cell_type": "markdown",
   "metadata": {},
   "source": [
    "Proof of Concept - Manipulate datasets in the project\n",
    "==="
   ]
  },
  {
   "cell_type": "code",
   "execution_count": 1,
   "metadata": {},
   "outputs": [],
   "source": [
    "# Library Utilitaire pour la gestion de projet\n",
    "import PythonLib\n",
    "\n",
    "from os.path import splitext, basename"
   ]
  },
  {
   "cell_type": "markdown",
   "metadata": {},
   "source": [
    "## CSV"
   ]
  },
  {
   "cell_type": "code",
   "execution_count": 5,
   "metadata": {},
   "outputs": [],
   "source": [
    "import pandas as pd\n",
    "\n",
    "author= \"Mark S. Daskin\"\n",
    "topic = \"NETWORK-AND-DISCRETE-LOCATION\"\n",
    "\n",
    "dataset=\"49-nodes.csv\"\n",
    "\n",
    "dataset_file = \"./Datasets/\" + author + \"/\" + dataset\n",
    "\n",
    "data = pd.read_csv(dataset_file)"
   ]
  },
  {
   "cell_type": "code",
   "execution_count": 6,
   "metadata": {},
   "outputs": [
    {
     "data": {
      "text/html": [
       "<div>\n",
       "<style scoped>\n",
       "    .dataframe tbody tr th:only-of-type {\n",
       "        vertical-align: middle;\n",
       "    }\n",
       "\n",
       "    .dataframe tbody tr th {\n",
       "        vertical-align: top;\n",
       "    }\n",
       "\n",
       "    .dataframe thead th {\n",
       "        text-align: right;\n",
       "    }\n",
       "</style>\n",
       "<table border=\"1\" class=\"dataframe\">\n",
       "  <thead>\n",
       "    <tr style=\"text-align: right;\">\n",
       "      <th></th>\n",
       "      <th>ID</th>\n",
       "      <th>LATITUDE</th>\n",
       "      <th>LONGITUDE</th>\n",
       "      <th>STATE POP</th>\n",
       "      <th>CITY POP</th>\n",
       "      <th>FIXED COST</th>\n",
       "      <th>CITY</th>\n",
       "    </tr>\n",
       "  </thead>\n",
       "  <tbody>\n",
       "    <tr>\n",
       "      <th>0</th>\n",
       "      <td>1</td>\n",
       "      <td>121.467360</td>\n",
       "      <td>38.56685</td>\n",
       "      <td>29760021</td>\n",
       "      <td>369365</td>\n",
       "      <td>115800</td>\n",
       "      <td>&lt; Sacramento CA &gt;</td>\n",
       "    </tr>\n",
       "    <tr>\n",
       "      <th>1</th>\n",
       "      <td>2</td>\n",
       "      <td>73.799017</td>\n",
       "      <td>42.66575</td>\n",
       "      <td>17990455</td>\n",
       "      <td>101082</td>\n",
       "      <td>101800</td>\n",
       "      <td>&lt; Albany NY &gt;</td>\n",
       "    </tr>\n",
       "    <tr>\n",
       "      <th>2</th>\n",
       "      <td>3</td>\n",
       "      <td>97.750522</td>\n",
       "      <td>30.30588</td>\n",
       "      <td>16986510</td>\n",
       "      <td>465622</td>\n",
       "      <td>72600</td>\n",
       "      <td>&lt; Austin TX &gt;</td>\n",
       "    </tr>\n",
       "    <tr>\n",
       "      <th>3</th>\n",
       "      <td>4</td>\n",
       "      <td>84.281399</td>\n",
       "      <td>30.45700</td>\n",
       "      <td>12937926</td>\n",
       "      <td>124773</td>\n",
       "      <td>72400</td>\n",
       "      <td>&lt; Tallahassee FL &gt;</td>\n",
       "    </tr>\n",
       "    <tr>\n",
       "      <th>4</th>\n",
       "      <td>5</td>\n",
       "      <td>76.884503</td>\n",
       "      <td>40.27605</td>\n",
       "      <td>11881643</td>\n",
       "      <td>52376</td>\n",
       "      <td>38400</td>\n",
       "      <td>&lt; Harrisburg PA &gt;</td>\n",
       "    </tr>\n",
       "  </tbody>\n",
       "</table>\n",
       "</div>"
      ],
      "text/plain": [
       "   ID    LATITUDE  LONGITUDE  STATE POP  CITY POP  FIXED COST  \\\n",
       "0   1  121.467360   38.56685   29760021    369365      115800   \n",
       "1   2   73.799017   42.66575   17990455    101082      101800   \n",
       "2   3   97.750522   30.30588   16986510    465622       72600   \n",
       "3   4   84.281399   30.45700   12937926    124773       72400   \n",
       "4   5   76.884503   40.27605   11881643     52376       38400   \n",
       "\n",
       "                 CITY  \n",
       "0   < Sacramento CA >  \n",
       "1       < Albany NY >  \n",
       "2       < Austin TX >  \n",
       "3  < Tallahassee FL >  \n",
       "4   < Harrisburg PA >  "
      ]
     },
     "execution_count": 6,
     "metadata": {},
     "output_type": "execute_result"
    }
   ],
   "source": [
    "data.head()"
   ]
  },
  {
   "cell_type": "markdown",
   "metadata": {},
   "source": [
    "## Mongodb"
   ]
  },
  {
   "cell_type": "markdown",
   "metadata": {},
   "source": [
    "### Create problem"
   ]
  },
  {
   "cell_type": "code",
   "execution_count": 7,
   "metadata": {},
   "outputs": [],
   "source": [
    "# Generate a connection to our database\n",
    "import pymongo\n",
    "from pymongo import MongoClient\n",
    "\n",
    "mongo_host='ns396089.ip-37-59-38.eu'\n",
    "mongo_port=32771\n",
    "\n",
    "client = MongoClient(mongo_host, mongo_port)\n",
    "\n",
    "# Collection where we wich to store our problem\n",
    "problems = client[topic][author] # client.[db name].[collection name]\n",
    "\n",
    "# Prepare the datas to be saved\n",
    "data.index = data.index.map(str)\n",
    "record = {\n",
    "    \"metadata\": {\n",
    "        \"author\": author,\n",
    "        \"topic\": topic,\n",
    "        \"dataset\": splitext(basename(dataset))[0]\n",
    "    },\n",
    "    \"data\": data.to_dict()\n",
    "}\n",
    "\n",
    "# Insert a new entry to the database\n",
    "problem_id = problems.insert_one(record).inserted_id"
   ]
  },
  {
   "cell_type": "markdown",
   "metadata": {},
   "source": [
    "### Read problem"
   ]
  },
  {
   "cell_type": "code",
   "execution_count": 8,
   "metadata": {},
   "outputs": [],
   "source": [
    "# fetch all problems, return an iterator\n",
    "q = {} # query select the desired intances\n",
    "f = {} # filter | select the desired fields\n",
    "records = problems.find(q,f)"
   ]
  },
  {
   "cell_type": "code",
   "execution_count": 9,
   "metadata": {},
   "outputs": [
    {
     "data": {
      "text/plain": [
       "[{'_id': ObjectId('5ba9a5ab27f7f300226e6e41')},\n",
       " {'_id': ObjectId('5bac222a27f7f30021f79267')}]"
      ]
     },
     "execution_count": 9,
     "metadata": {},
     "output_type": "execute_result"
    }
   ],
   "source": [
    "list(records)"
   ]
  },
  {
   "cell_type": "markdown",
   "metadata": {},
   "source": [
    "## Create rules for the database"
   ]
  },
  {
   "cell_type": "code",
   "execution_count": 10,
   "metadata": {},
   "outputs": [
    {
     "data": {
      "text/plain": [
       "'metadata.author_-1_metadata.topic_-1_metadata.dataset_-1'"
      ]
     },
     "execution_count": 10,
     "metadata": {},
     "output_type": "execute_result"
    }
   ],
   "source": [
    "problems.create_index([('metadata.author', pymongo.DESCENDING),\n",
    "                       ('metadata.topic', pymongo.DESCENDING),\n",
    "                       ('metadata.dataset', pymongo.DESCENDING)], unique=True)"
   ]
  },
  {
   "cell_type": "code",
   "execution_count": null,
   "metadata": {},
   "outputs": [],
   "source": []
  }
 ],
 "metadata": {
  "kernelspec": {
   "display_name": "Python 3",
   "language": "python",
   "name": "python3"
  },
  "language_info": {
   "codemirror_mode": {
    "name": "ipython",
    "version": 3
   },
   "file_extension": ".py",
   "mimetype": "text/x-python",
   "name": "python",
   "nbconvert_exporter": "python",
   "pygments_lexer": "ipython3",
   "version": "3.6.5"
  }
 },
 "nbformat": 4,
 "nbformat_minor": 2
}
