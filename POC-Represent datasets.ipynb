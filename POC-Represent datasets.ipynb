{
 "cells": [
  {
   "cell_type": "markdown",
   "metadata": {},
   "source": [
    "Visualizing and Understanding networks\n",
    "===\n",
    "\n",
    "In the notebook, we introduce the tools that are use in this repository to illustrate the network studied in the differents problems. The goal of those representation is to gain a better understanding of problem at stack. \n"
   ]
  },
  {
   "cell_type": "markdown",
   "metadata": {},
   "source": [
    "We first import the packages we need to build our visualisation."
   ]
  },
  {
   "cell_type": "code",
   "execution_count": 21,
   "metadata": {},
   "outputs": [],
   "source": [
    "# Database Providing the datasets\n",
    "import pymongo as pm\n",
    "# Data manipulation\n",
    "import pandas as pd\n",
    "# Network \n",
    "import networkx as nx\n",
    "# Datavisualization tool\n",
    "import matplotlib.pyplot as plt\n",
    "from mpl_toolkits.basemap import Basemap as basemap"
   ]
  },
  {
   "cell_type": "markdown",
   "metadata": {},
   "source": [
    "(if you have troubles instaling basemap on an anaconda environnement see: https://github.com/conda-forge/basemap-feedstock/issues/30)"
   ]
  },
  {
   "cell_type": "markdown",
   "metadata": {},
   "source": [
    "Collecting the dataset\n",
    "---"
   ]
  },
  {
   "cell_type": "markdown",
   "metadata": {},
   "source": [
    "Prepare the database client to makes queries, and collect the dataset we need. The data are store in a database MongoDB organised by **topic** and **author**. Given those two elements you can decide which database and which collection to use."
   ]
  },
  {
   "cell_type": "code",
   "execution_count": 2,
   "metadata": {},
   "outputs": [],
   "source": [
    "mongo_host='ns396089.ip-37-59-38.eu'\n",
    "mongo_port=32771\n",
    "\n",
    "author= \"Mark S. Daskin\"\n",
    "topic = \"NETWORK-AND-DISCRETE-LOCATION\"\n",
    "\n",
    "client = pm.MongoClient(mongo_host, mongo_port)\n",
    "\n",
    "# Collection where we wich to store our problem\n",
    "problems = client[topic][\"datasets\"] # client.[db name].[collection name]"
   ]
  },
  {
   "cell_type": "markdown",
   "metadata": {},
   "source": [
    "Query one dataset and select it based on the metadatas. The relevant metadata to seach on in our cas are the **author** and the **name** of the problem (using the key dataset)."
   ]
  },
  {
   "cell_type": "code",
   "execution_count": 19,
   "metadata": {},
   "outputs": [],
   "source": [
    "# fetch the first problem matching our search criteras\n",
    "q = {\n",
    "    \"metadata.author\": \"Mark S. Daskin\",\n",
    "    \"metadata.dataset\": \"49-nodes\"\n",
    "} # query select the desired intances\n",
    "f = {} # filter | select the desired fields\n",
    "record = problems.find_one(q)"
   ]
  },
  {
   "cell_type": "markdown",
   "metadata": {},
   "source": [
    "Reformat the dataset to be easy to use via **pandas**. The datasets we have downloaded contains contains the **geographic information** of cities in the USA (longitude, and latitide) as well as **demographic datas** and cost indicator."
   ]
  },
  {
   "cell_type": "code",
   "execution_count": 20,
   "metadata": {},
   "outputs": [
    {
     "data": {
      "text/html": [
       "<div>\n",
       "<style scoped>\n",
       "    .dataframe tbody tr th:only-of-type {\n",
       "        vertical-align: middle;\n",
       "    }\n",
       "\n",
       "    .dataframe tbody tr th {\n",
       "        vertical-align: top;\n",
       "    }\n",
       "\n",
       "    .dataframe thead th {\n",
       "        text-align: right;\n",
       "    }\n",
       "</style>\n",
       "<table border=\"1\" class=\"dataframe\">\n",
       "  <thead>\n",
       "    <tr style=\"text-align: right;\">\n",
       "      <th></th>\n",
       "      <th>LATITUDE</th>\n",
       "      <th>LONGITUDE</th>\n",
       "      <th>STATE POP</th>\n",
       "      <th>CITY POP</th>\n",
       "      <th>FIXED COST</th>\n",
       "      <th>CITY</th>\n",
       "    </tr>\n",
       "    <tr>\n",
       "      <th>ID</th>\n",
       "      <th></th>\n",
       "      <th></th>\n",
       "      <th></th>\n",
       "      <th></th>\n",
       "      <th></th>\n",
       "      <th></th>\n",
       "    </tr>\n",
       "  </thead>\n",
       "  <tbody>\n",
       "    <tr>\n",
       "      <th>1</th>\n",
       "      <td>121.467360</td>\n",
       "      <td>38.566850</td>\n",
       "      <td>29760021</td>\n",
       "      <td>369365</td>\n",
       "      <td>115800</td>\n",
       "      <td>&lt; Sacramento CA &gt;</td>\n",
       "    </tr>\n",
       "    <tr>\n",
       "      <th>2</th>\n",
       "      <td>73.799017</td>\n",
       "      <td>42.665750</td>\n",
       "      <td>17990455</td>\n",
       "      <td>101082</td>\n",
       "      <td>101800</td>\n",
       "      <td>&lt; Albany NY &gt;</td>\n",
       "    </tr>\n",
       "    <tr>\n",
       "      <th>11</th>\n",
       "      <td>84.422592</td>\n",
       "      <td>33.762900</td>\n",
       "      <td>6478216</td>\n",
       "      <td>394017</td>\n",
       "      <td>71200</td>\n",
       "      <td>&lt; Atlanta GA &gt;</td>\n",
       "    </tr>\n",
       "    <tr>\n",
       "      <th>12</th>\n",
       "      <td>77.474584</td>\n",
       "      <td>37.531050</td>\n",
       "      <td>6187358</td>\n",
       "      <td>203056</td>\n",
       "      <td>66600</td>\n",
       "      <td>&lt; Richmond VA &gt;</td>\n",
       "    </tr>\n",
       "    <tr>\n",
       "      <th>13</th>\n",
       "      <td>71.017892</td>\n",
       "      <td>42.336029</td>\n",
       "      <td>6016425</td>\n",
       "      <td>574283</td>\n",
       "      <td>161400</td>\n",
       "      <td>&lt; Boston MA &gt;</td>\n",
       "    </tr>\n",
       "  </tbody>\n",
       "</table>\n",
       "</div>"
      ],
      "text/plain": [
       "      LATITUDE  LONGITUDE  STATE POP  CITY POP  FIXED COST               CITY\n",
       "ID                                                                           \n",
       "1   121.467360  38.566850   29760021    369365      115800  < Sacramento CA >\n",
       "2    73.799017  42.665750   17990455    101082      101800      < Albany NY >\n",
       "11   84.422592  33.762900    6478216    394017       71200     < Atlanta GA >\n",
       "12   77.474584  37.531050    6187358    203056       66600    < Richmond VA >\n",
       "13   71.017892  42.336029    6016425    574283      161400      < Boston MA >"
      ]
     },
     "execution_count": 20,
     "metadata": {},
     "output_type": "execute_result"
    }
   ],
   "source": [
    "df= pd.DataFrame.from_dict(record[\"data\"])\n",
    "df= df.set_index(['ID'])\n",
    "df.head()"
   ]
  },
  {
   "cell_type": "markdown",
   "metadata": {},
   "source": [
    "## Visualising the data"
   ]
  },
  {
   "cell_type": "markdown",
   "metadata": {},
   "source": [
    "First we convert our dataFrame into a Graph by usinf **netwokx**. Note that the function `add_nodes_from` takes as input a list of tuple `(node, attribute)` thus we need make a small data manipulation: `df.T.to_dict().items()` provide the pair `(key, value)` which is exactly what we want."
   ]
  },
  {
   "cell_type": "code",
   "execution_count": 60,
   "metadata": {},
   "outputs": [],
   "source": [
    "G = nx.Graph()\n",
    "G.add_nodes_from(df.T.to_dict().items())"
   ]
  },
  {
   "cell_type": "code",
   "execution_count": 62,
   "metadata": {},
   "outputs": [
    {
     "data": {
      "image/png": "[encoded data removed]",
      "text/plain": [
       "<Figure size 720x648 with 1 Axes>"
      ]
     },
     "metadata": {},
     "output_type": "display_data"
    }
   ],
   "source": [
    "plt.figure(figsize = (10,9))\n",
    "nx.draw_networkx(G)\n",
    "plt.show()"
   ]
  },
  {
   "cell_type": "code",
   "execution_count": null,
   "metadata": {},
   "outputs": [],
   "source": []
  }
 ],
 "metadata": {
  "kernelspec": {
   "display_name": "Python 3",
   "language": "python",
   "name": "python3"
  },
  "language_info": {
   "codemirror_mode": {
    "name": "ipython",
    "version": 3
   },
   "file_extension": ".py",
   "mimetype": "text/x-python",
   "name": "python",
   "nbconvert_exporter": "python",
   "pygments_lexer": "ipython3",
   "version": "3.6.5"
  }
 },
 "nbformat": 4,
 "nbformat_minor": 2
}
